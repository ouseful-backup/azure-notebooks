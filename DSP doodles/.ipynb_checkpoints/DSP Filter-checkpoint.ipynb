{
 "cells": [
  {
   "cell_type": "code",
   "execution_count": 2,
   "metadata": {},
   "outputs": [],
   "source": [
    "import numpy as np\n",
    "import pandas as pd\n",
    "\n",
    "import matplotlib.pyplot as plt\n",
    "%matplotlib inline\n",
    "\n",
    "from ipywidgets import interact"
   ]
  },
  {
   "cell_type": "code",
   "execution_count": 3,
   "metadata": {},
   "outputs": [
    {
     "data": {
      "application/vnd.jupyter.widget-view+json": {
       "model_id": "6cb6ea1e576b4dafa1834c3579bb7521",
       "version_major": 2,
       "version_minor": 0
      },
      "text/plain": [
       "interactive(children=(Dropdown(description='fn', options=('sin', 'cos', 'lin'), value='sin'), IntSlider(value=…"
      ]
     },
     "metadata": {},
     "output_type": "display_data"
    }
   ],
   "source": [
    "@interact(fn=['sin','cos', 'lin'], samples=(1,50,1))\n",
    "def fnplot(fn, samples=10):\n",
    "    ''' Plot simple discretised signal.\n",
    "        fn: function\n",
    "        samples: no. of samples per 2 pi'''\n",
    "\n",
    "    _fn={'sin':np.sin, 'cos':np.cos, 'lin':np.ones}\n",
    "    x = pd.DataFrame({'s':np.linspace(0.1, 2 * np.pi, samples)})\n",
    "    x['sin']=np.sin(x['s'])\n",
    "    x['cos']=np.cos(x['s'])\n",
    "    x['lin']=np.ones(len(x))\n",
    "    x.reset_index(inplace=True)\n",
    "    out=x[fn]\n",
    "    \n",
    "    markerline, stemlines, baseline = plt.stem(x['index'], out)\n",
    "    fig = plt.setp(baseline, color='grey', linewidth=2)\n"
   ]
  },
  {
   "cell_type": "code",
   "execution_count": null,
   "metadata": {},
   "outputs": [
    {
     "data": {
      "application/vnd.jupyter.widget-view+json": {
       "model_id": "d9299a923e0442a79a43acb01efa1213",
       "version_major": 2,
       "version_minor": 0
      },
      "text/plain": [
       "interactive(children=(Dropdown(description='fn', options=('sin', 'cos', 'lin'), value='sin'), IntSlider(value=…"
      ]
     },
     "metadata": {},
     "output_type": "display_data"
    }
   ],
   "source": [
    "@interact(fn=['sin','cos', 'lin'], samples=(1,50,1), window=(3,7))\n",
    "def mafnplot(fn, samples=10, window=3):\n",
    "    ''' Plot moving average over simple discretised signal.\n",
    "        fn: function\n",
    "        samples: no. of samples per 2 pi'''\n",
    "    \n",
    "    _fn={'sin':np.sin, 'cos':np.cos, 'lin':np.ones}\n",
    "    x = pd.DataFrame({'s':np.linspace(0.1, 2 * np.pi, samples)})\n",
    "    x['sin']=np.sin(x['s'])\n",
    "    x['cos']=np.cos(x['s'])\n",
    "    x['lin']=np.ones(len(x))\n",
    "    out=x[fn]\n",
    "    \n",
    "    x['ma']=out.rolling(window).mean()\n",
    "    \n",
    "    x.reset_index(inplace=True)\n",
    "    \n",
    "    \n",
    "    plt.figure(1)\n",
    "        \n",
    "    ax1 = plt.subplot(211)\n",
    "    markerline, stemlines, baseline = plt.stem(x['index'], out, basefmt='grey')\n",
    "    \n",
    "    plt.subplot(212)\n",
    "    plt.stem(x['index'],x['ma'].fillna(0), basefmt='grey')\n",
    "    #print(x)\n",
    "    #fig = plt.setp(baseline, color='grey', linewidth=2)"
   ]
  },
  {
   "cell_type": "code",
   "execution_count": null,
   "metadata": {},
   "outputs": [
    {
     "data": {
      "application/vnd.jupyter.widget-view+json": {
       "model_id": "3a032025aac7492eb35505d725334684",
       "version_major": 2,
       "version_minor": 0
      },
      "text/plain": [
       "interactive(children=(IntSlider(value=3, description='freq', max=5, min=1), Checkbox(value=True, description='…"
      ]
     },
     "metadata": {},
     "output_type": "display_data"
    }
   ],
   "source": [
    "@interact(freq = (1,5),\n",
    "          dashed = True,phase=(0,2*np.pi), freqmult=(0.5,4), amp=(0.0,2.0)\n",
    "          )\n",
    "def sine_wave(freq, dashed, phase=0, freqmult=1, amp=1.0):\n",
    "    ''' Plot a simple sine wave using with specified style. '''\n",
    "    df = pd.DataFrame({'x':np.arange(10, step=0.01)})\n",
    "    df['y'] = np.sin(freq * df['x'])\n",
    "    df['y2'] =  amp*np.sin(freqmult*freq * df['x'] + phase)\n",
    "    df['y3']=df['y']+df['y2']\n",
    "    ax=df.plot(x='x',y='y3', color='red', style = '--' if dashed else '-')\n",
    "    df.plot(x='x',y='y', color='lightblue', ax=ax)\n",
    "    df.plot(x='x',y='y2', color='lightgreen', ax=ax);"
   ]
  },
  {
   "cell_type": "code",
   "execution_count": 130,
   "metadata": {},
   "outputs": [
    {
     "data": {
      "application/vnd.jupyter.widget-view+json": {
       "model_id": "d865eb96479e45b083937f072c251d94",
       "version_major": 2,
       "version_minor": 0
      },
      "text/plain": [
       "interactive(children=(IntSlider(value=10, description='samples', min=1, step=5), IntSlider(value=3, descriptio…"
      ]
     },
     "metadata": {},
     "output_type": "display_data"
    }
   ],
   "source": [
    "@interact( samples=(1,100,5), window=(3,7),freq = (1,5),phase=(0,2*np.pi), freqmult=(0.5,4), amp=(0.0,2.0))\n",
    "def dmafnplot(samples=10, window=3,freq=1,phase=0, freqmult=1, amp=1.0):\n",
    "    ''' Plot moving average over simple discretised signal.\n",
    "        fn: function\n",
    "        samples: no. of samples per 2 pi'''\n",
    "\n",
    "    df = pd.DataFrame({'x':np.linspace(0.1, 2 * np.pi, samples)})\n",
    "    df['y'] = np.sin(freq * df['x'])\n",
    "    df['y2'] =  amp*np.sin(freqmult*freq * df['x'] + phase)\n",
    "    df['y3']=df['y']+df['y2']\n",
    "    ax=df.plot(x='x',y='y3', color='red')\n",
    "    df.plot(x='x',y='y', color='blue', ax=ax)\n",
    "    df.plot(x='x',y='y2', color='green', ax=ax);\n",
    "    \n",
    "    df['ma']=df['y3'].rolling(window).mean()\n",
    "    \n",
    "    df.reset_index(inplace=True) \n",
    "    \n",
    "    plt.figure(1)\n",
    "        \n",
    "    ax1 = plt.subplot(211)\n",
    "    markerline, stemlines, baseline = plt.stem(df['index'], df['y3'], basefmt='grey')\n",
    "    \n",
    "    plt.subplot(212)\n",
    "    plt.stem(df['index'],df['ma'].fillna(0), basefmt='grey')\n",
    "    #print(x)\n",
    "    #fig = plt.setp(baseline, color='grey', linewidth=2)"
   ]
  },
  {
   "cell_type": "code",
   "execution_count": null,
   "metadata": {},
   "outputs": [],
   "source": [
    "#difference  between consecutive points - 2 term difference\n",
    "3 term average  - rolling mean over N (N odd? 3, 7)"
   ]
  }
 ],
 "metadata": {
  "kernelspec": {
   "display_name": "Python 3",
   "language": "python",
   "name": "python3"
  },
  "language_info": {
   "codemirror_mode": {
    "name": "ipython",
    "version": 3
   },
   "file_extension": ".py",
   "mimetype": "text/x-python",
   "name": "python",
   "nbconvert_exporter": "python",
   "pygments_lexer": "ipython3",
   "version": "3.5.4"
  }
 },
 "nbformat": 4,
 "nbformat_minor": 2
}
