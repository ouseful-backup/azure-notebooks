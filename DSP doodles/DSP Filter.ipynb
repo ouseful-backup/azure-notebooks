{
 "cells": [
  {
   "cell_type": "markdown",
   "metadata": {},
   "source": [
    "# Notebook to demo simople DSP interactives\n",
    "\n",
    "Run code cell by clicking in cell to select it then click `Run` button in toolbar."
   ]
  },
  {
   "cell_type": "code",
   "execution_count": null,
   "metadata": {},
   "outputs": [],
   "source": [
    "#RUN THIS CELL FIRST TO IMPORT NECESSARY PACKAGES\n",
    "\n",
    "import numpy as np\n",
    "import pandas as pd\n",
    "\n",
    "import matplotlib.pyplot as plt\n",
    "%matplotlib inline\n",
    "\n",
    "from ipywidgets import interact"
   ]
  },
  {
   "cell_type": "markdown",
   "metadata": {},
   "source": [
    "## Simple demo of adding waves in continuous domain\n",
    "\n",
    "Simple exploration of adding two sine waves, where second wave has frequency and and amplitude multiples of, and phase shift from, a base sine wave."
   ]
  },
  {
   "cell_type": "code",
   "execution_count": null,
   "metadata": {
    "scrolled": false
   },
   "outputs": [],
   "source": [
    "@interact(freq = (1,5),phase=(0,2*np.pi), freqmult=(0.5,20), amp=(0.0,2.0)\n",
    "          )\n",
    "def sine_wave(freq=1, phase=np.pi, freqmult=1, amp=1.0):\n",
    "    ''' Plot two sine waves added together.\n",
    "        freq: base frequency of one wave\n",
    "        phase: phase shift of added sine wave\n",
    "        freqmult: frequency of added sine wave as multiple of base frequency\n",
    "        amp: amplitide of added sine wave as multiple of base amplitude\n",
    "    '''\n",
    "    \n",
    "    df = pd.DataFrame({'x':np.arange(10, step=0.01)})\n",
    "    df['y'] = np.sin(freq * df['x'])\n",
    "    df['y2'] =  amp*np.sin(freqmult*freq * df['x'] + phase)\n",
    "    df['y3']=df['y']+df['y2']\n",
    "    \n",
    "    ax=df.plot(x='x',y='y', color='lightblue')\n",
    "    df.plot(x='x',y='y2', color='lightgreen', ax=ax)\n",
    "    df.plot(x='x',y='y3', color='red', style = '--', ax=ax)\n",
    "    \n",
    "    #return df"
   ]
  },
  {
   "cell_type": "markdown",
   "metadata": {},
   "source": [
    "## Looking at sine waves in discrete time\n",
    "\n",
    "Simple demo of how sine waves look in discrete time.\n",
    "\n",
    "Increase number of samples to show effect of increasing sample rate."
   ]
  },
  {
   "cell_type": "code",
   "execution_count": null,
   "metadata": {},
   "outputs": [],
   "source": [
    "@interact(fn=['sin','cos', 'lin'], samples=(1,50,1))\n",
    "def fnplot(fn, samples=10):\n",
    "    ''' Plot simple discretised signal.\n",
    "        fn: function\n",
    "        samples: no. of samples per 2 pi'''\n",
    "\n",
    "    _fn={'sin':np.sin, 'cos':np.cos, 'lin':np.ones}\n",
    "    x = pd.DataFrame({'s':np.linspace(0.1, 2 * np.pi, samples)})\n",
    "    x['sin']=np.sin(x['s'])\n",
    "    x['cos']=np.cos(x['s'])\n",
    "    x['lin']=np.ones(len(x))\n",
    "    x.reset_index(inplace=True)\n",
    "    out=x[fn]\n",
    "    \n",
    "    markerline, stemlines, baseline = plt.stem(x['index'], out)\n",
    "    fig = plt.setp(baseline, color='grey', linewidth=2)\n"
   ]
  },
  {
   "cell_type": "markdown",
   "metadata": {},
   "source": [
    "## Simple Moving Average Filter\n",
    "\n",
    "Apply a simple moving average filter with specified window (number of considered samples) size."
   ]
  },
  {
   "cell_type": "markdown",
   "metadata": {},
   "source": [
    "In the case of a simple sine wave, this effectively introduces a phase shift?"
   ]
  },
  {
   "cell_type": "code",
   "execution_count": null,
   "metadata": {},
   "outputs": [],
   "source": [
    "@interact(fn=['sin','cos', 'lin'], samples=(1,50,1), window=(3,7))\n",
    "def mafnplot(fn, samples=10, window=3):\n",
    "    ''' Plot moving average over simple discretised signal.\n",
    "        fn: function\n",
    "        samples: no. of samples per 2 pi'''\n",
    "    \n",
    "    _fn={'sin':np.sin, 'cos':np.cos, 'lin':np.ones}\n",
    "    x = pd.DataFrame({'s':np.linspace(0.1, 2 * np.pi, samples)})\n",
    "    x['sin']=np.sin(x['s'])\n",
    "    x['cos']=np.cos(x['s'])\n",
    "    x['lin']=np.ones(len(x))\n",
    "    out=x[fn]\n",
    "    \n",
    "    x['ma']=out.rolling(window).mean()\n",
    "    \n",
    "    x.reset_index(inplace=True)\n",
    "    \n",
    "    \n",
    "    fig=plt.figure(1)\n",
    "        \n",
    "    ax1 = plt.subplot(211)\n",
    "    markerline, stemlines, baseline = plt.stem(x['index'], out, basefmt='grey')\n",
    "    plt.title('Original signal'.format(window))\n",
    "    \n",
    "    plt.subplot(212)\n",
    "    plt.stem(x['index'],x['ma'].fillna(0), basefmt='grey')\n",
    "    plt.title('Moving average (window size {})'.format(window))\n",
    "    \n",
    "    #Add space between plots\n",
    "    fig.subplots_adjust(hspace=1.2)\n",
    "    #print(x)\n",
    "    #fig = plt.setp(baseline, color='grey', linewidth=2)"
   ]
  },
  {
   "cell_type": "markdown",
   "metadata": {},
   "source": [
    "If we have a combination of signals, then we can get a low pass filter effect from the moving average.\n",
    "\n",
    "For example, set the samples high, `freqmult` high (e.g. 20) and the `amp` low (e.g. 0.1) then change the window size."
   ]
  },
  {
   "cell_type": "code",
   "execution_count": null,
   "metadata": {},
   "outputs": [],
   "source": [
    "@interact( samples=(1,100,5), window=(3,7),freq = (1,5),phase=(0,2*np.pi), freqmult=(0.5,20), amp=(0.0,2.0))\n",
    "def dmafnplot(samples=100, window=3,freq=1,phase=0, freqmult=15, amp=0.1):\n",
    "    ''' Plot moving average over simple discretised signal.\n",
    "        fn: function\n",
    "        samples: no. of samples per 2 pi'''\n",
    "\n",
    "    df = pd.DataFrame({'x':np.linspace(0.1, 2 * np.pi, samples)})\n",
    "    df['y'] = np.sin(freq * df['x'])\n",
    "    df['y2'] =  amp*np.sin(freqmult*freq * df['x'] + phase)\n",
    "    df['y3']=df['y']+df['y2']\n",
    "    ax=df.plot(x='x',y='y3', color='red')\n",
    "    df.plot(x='x',y='y', color='blue', ax=ax)\n",
    "    df.plot(x='x',y='y2', color='green', ax=ax);\n",
    "    \n",
    "    df['ma']=df['y3'].rolling(window).mean()\n",
    "    \n",
    "    df.reset_index(inplace=True) \n",
    "    \n",
    "    fig=plt.figure(1)\n",
    "        \n",
    "    ax1 = plt.subplot(211)\n",
    "    markerline, stemlines, baseline = plt.stem(df['index'], df['y3'], basefmt='grey')\n",
    "    plt.title('Mixed signal'.format(window))\n",
    "    \n",
    "    plt.subplot(212)\n",
    "    plt.stem(df['index'],df['ma'].fillna(0), basefmt='grey')\n",
    "    plt.title('Moving average (window size {})'.format(window))\n",
    "    \n",
    "    fig.subplots_adjust(hspace=1.2)\n",
    "    #print(x)\n",
    "    #fig = plt.setp(baseline, color='grey', linewidth=2)"
   ]
  },
  {
   "cell_type": "markdown",
   "metadata": {},
   "source": [
    "#difference  between consecutive points - 2 term difference\n",
    "3 term average  - rolling mean over N (N odd? 3, 7)"
   ]
  }
 ],
 "metadata": {
  "kernelspec": {
   "display_name": "Python 3",
   "language": "python",
   "name": "python3"
  },
  "language_info": {
   "codemirror_mode": {
    "name": "ipython",
    "version": 3
   },
   "file_extension": ".py",
   "mimetype": "text/x-python",
   "name": "python",
   "nbconvert_exporter": "python",
   "pygments_lexer": "ipython3",
   "version": "3.6.4"
  }
 },
 "nbformat": 4,
 "nbformat_minor": 2
}
