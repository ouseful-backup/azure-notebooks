{
 "cells": [
  {
   "cell_type": "markdown",
   "metadata": {},
   "source": [
    "# Simple Image Filtering Examples\n",
    "\n",
    "Interative examples demonstrating various image filtering operations."
   ]
  },
  {
   "cell_type": "markdown",
   "metadata": {},
   "source": [
    "## Median Filter"
   ]
  },
  {
   "cell_type": "code",
   "execution_count": 10,
   "metadata": {},
   "outputs": [],
   "source": [
    "%%capture\n",
    "\n",
    "#Example via: https://stackoverflow.com/a/48337628\n",
    "\n",
    "%matplotlib inline\n",
    "from ipywidgets import interact, widgets\n",
    "from IPython.display import display\n",
    "import matplotlib.pyplot as plt\n",
    "import warnings\n",
    "\n",
    "from skimage.morphology import disk\n",
    "from skimage.filters import rank\n",
    "from skimage.color import rgb2gray\n",
    "import skimage.data\n",
    "\n",
    "\n",
    "def f(Median_Size):\n",
    "    selem = disk(int(Median_Size))\n",
    "    with warnings.catch_warnings():\n",
    "        warnings.simplefilter(\"ignore\")\n",
    "        img_median = rank.median(img_gray, selem=selem) \n",
    "    ax_neu.imshow(img_median, cmap=\"gray\")\n",
    "    ax_neu.set_title(\"Median filter size: {}\".format(Median_Size))\n",
    "    fig.canvas.draw()\n",
    "    display(fig)\n",
    "\n",
    "image = skimage.data.camera() #plt.imread(\"Test.png\")       \n",
    "img_gray = rgb2gray(image)\n",
    "\n",
    "fig = plt.figure(figsize=(6, 4))\n",
    "ax_orig = fig.add_subplot(121) \n",
    "ax_neu = fig.add_subplot(122) \n",
    "\n",
    "ax_orig.imshow(img_gray, cmap=\"gray\")\n",
    "ax_neu.imshow(img_gray, cmap=\"gray\")"
   ]
  },
  {
   "cell_type": "code",
   "execution_count": 11,
   "metadata": {},
   "outputs": [
    {
     "data": {
      "application/vnd.jupyter.widget-view+json": {
       "model_id": "69d665f2544c417faf1a85504403c8d9",
       "version_major": 2,
       "version_minor": 0
      },
      "text/plain": [
       "interactive(children=(IntSlider(value=1, description='Median_Size', max=21, min=1, step=2), Output()), _dom_cl…"
      ]
     },
     "metadata": {},
     "output_type": "display_data"
    }
   ],
   "source": [
    "interact(f, Median_Size=widgets.IntSlider(min=1,max=21,step=2,value=1));"
   ]
  },
  {
   "cell_type": "markdown",
   "metadata": {},
   "source": [
    "## Stolen example 1"
   ]
  },
  {
   "cell_type": "code",
   "execution_count": 1,
   "metadata": {},
   "outputs": [
    {
     "name": "stderr",
     "output_type": "stream",
     "text": [
      "/home/nbuser/anaconda3_420/lib/python3.5/site-packages/matplotlib/font_manager.py:281: UserWarning: Matplotlib is building the font cache using fc-list. This may take a moment.\n",
      "  'Matplotlib is building the font cache using fc-list. '\n"
     ]
    }
   ],
   "source": [
    "import numpy as np\n",
    "import skimage\n",
    "import skimage.color as skic\n",
    "import skimage.filters as skif\n",
    "import skimage.data as skid\n",
    "import skimage.util as sku"
   ]
  },
  {
   "cell_type": "code",
   "execution_count": null,
   "metadata": {},
   "outputs": [],
   "source": [
    "#https://ipython-books.github.io/112-applying-filters-on-an-image/\n",
    "def show(img):\n",
    "    fig, ax = plt.subplots(1, 1, figsize=(8, 8))\n",
    "    ax.imshow(img, cmap=plt.cm.gray)\n",
    "    ax.set_axis_off()\n",
    "    plt.show()"
   ]
  },
  {
   "cell_type": "code",
   "execution_count": null,
   "metadata": {},
   "outputs": [],
   "source": [
    "img = skic.rgb2gray(skid.astronaut())\n",
    "show(img)"
   ]
  },
  {
   "cell_type": "code",
   "execution_count": null,
   "metadata": {},
   "outputs": [],
   "source": [
    "#blur\n",
    "show(skif.gaussian(img, 5.))"
   ]
  },
  {
   "cell_type": "code",
   "execution_count": null,
   "metadata": {},
   "outputs": [],
   "source": [
    "#noise\n",
    "img = skimage.img_as_float(skid.astronaut())\n",
    "\n",
    "# We take a portion of the image to show the details.\n",
    "img = img[50:200, 150:300]\n",
    "\n",
    "# We add Gaussian noise.\n",
    "img_n = sku.random_noise(img)\n",
    "show(img_n)"
   ]
  },
  {
   "cell_type": "code",
   "execution_count": null,
   "metadata": {},
   "outputs": [],
   "source": [
    "#denoise\n",
    "\n",
    "#http://scikit-image.org/docs/dev/api/skimage.restoration.html\n",
    "#http://scikit-image.org/docs/dev/auto_examples/filters/plot_nonlocal_means.html\n",
    "img_r = skimage.restoration.denoise_tv_bregman(\n",
    "    img_n, 5.)\n",
    "\n",
    "fig, (ax1, ax2, ax3) = plt.subplots(\n",
    "    1, 3, figsize=(12, 8))\n",
    "\n",
    "ax1.imshow(img_n)\n",
    "\n",
    "ax1.set_title('With noise')\n",
    "ax1.set_axis_off()\n",
    "\n",
    "ax2.imshow(img_r)\n",
    "ax2.set_title('Denoised')\n",
    "ax2.set_axis_off()\n",
    "\n",
    "ax3.imshow(img)\n",
    "ax3.set_title('Original')\n",
    "ax3.set_axis_off()"
   ]
  },
  {
   "cell_type": "markdown",
   "metadata": {},
   "source": [
    "## Stolen Example 2"
   ]
  },
  {
   "cell_type": "code",
   "execution_count": null,
   "metadata": {},
   "outputs": [],
   "source": [
    "from skimage import data, filters"
   ]
  },
  {
   "cell_type": "code",
   "execution_count": null,
   "metadata": {},
   "outputs": [],
   "source": [
    "#image=coins[10:80, 300:370]\n",
    "#plt.imshow(image)"
   ]
  },
  {
   "cell_type": "code",
   "execution_count": null,
   "metadata": {},
   "outputs": [],
   "source": [
    "from skimage import data, filters\n",
    "\n",
    "image = data.camera()\n",
    "# Ignore the Gaussian filter, for now.\n",
    "# (This is explained at the end of the article.)\n",
    "smooth_image = filters.gaussian(image, 5)\n",
    "plt.imshow(smooth_image);"
   ]
  },
  {
   "cell_type": "code",
   "execution_count": null,
   "metadata": {},
   "outputs": [],
   "source": [
    "#http://scikit-image.org/docs/dev/api/skimage.filters.html\n",
    "@interact(typ=['gaussian','laplace','median' ,'prewitt', 'roberts','scharr', 'sobel', 'frangi'])\n",
    "def filterImage(typ='gaussian'):\n",
    "    filter_method = getattr(filters, typ)\n",
    "    \n",
    "    typ_image = filter_method(image)\n",
    "    plt.imshow(typ_image);"
   ]
  },
  {
   "cell_type": "code",
   "execution_count": null,
   "metadata": {},
   "outputs": [],
   "source": [
    "#via https://tonysyu.github.io/ipython-jupyter-widgets-an-image-convolution-demo.html#.W1kDyNhKjOQ\n",
    "\n",
    "#Convolution kernel\n",
    "\n",
    "import numpy as np\n",
    "\n",
    "horizontal_edge_kernel = np.array([[ 1,  2,  1],\n",
    "                                   [ 0,  0,  0],\n",
    "                                   [-1, -2, -1]])\n",
    "# Use non-gray colormap to display negative values as red and positive values as blue.\n",
    "plt.imshow(horizontal_edge_kernel, cmap=plt.cm.RdBu);"
   ]
  },
  {
   "cell_type": "code",
   "execution_count": null,
   "metadata": {},
   "outputs": [],
   "source": [
    "#Apply convolution kernel\n",
    "from scipy.ndimage import convolve\n",
    "\n",
    "horizontal_edge_response = convolve(smooth_image, horizontal_edge_kernel)\n",
    "plt.imshow(horizontal_edge_response, cmap=plt.cm.RdBu);\n"
   ]
  },
  {
   "cell_type": "code",
   "execution_count": null,
   "metadata": {},
   "outputs": [],
   "source": [
    "#?? https://www.scipy-lectures.org/intro/scipy/auto_examples/solutions/plot_fft_image_denoise.html\n",
    "#?? http://machinelearninguru.com/computer_vision/basics/convolution/image_convolution_1.html"
   ]
  },
  {
   "cell_type": "markdown",
   "metadata": {},
   "source": [
    "## Stolen Example 3"
   ]
  },
  {
   "cell_type": "code",
   "execution_count": null,
   "metadata": {},
   "outputs": [],
   "source": [
    "#https://www.scipy-lectures.org/packages/scikit-image/auto_examples/plot_filter_coins.html\n",
    "import numpy as np\n",
    "import matplotlib.pyplot as plt\n",
    "from skimage import data\n",
    "from skimage import filters\n",
    "from skimage import restoration\n",
    "\n",
    "coins = data.coins()\n",
    "gaussian_filter_coins = filters.gaussian(coins, sigma=2)\n",
    "med_filter_coins = filters.median(coins, np.ones((3, 3)))\n",
    "tv_filter_coins = restoration.denoise_tv_chambolle(coins, weight=0.1)\n",
    "\n",
    "plt.figure(figsize=(16, 4))\n",
    "plt.subplot(141)\n",
    "plt.imshow(coins[10:80, 300:370], cmap='gray', interpolation='nearest')\n",
    "plt.axis('off')\n",
    "plt.title('Image')\n",
    "plt.subplot(142)\n",
    "plt.imshow(gaussian_filter_coins[10:80, 300:370], cmap='gray',\n",
    "           interpolation='nearest')\n",
    "plt.axis('off')\n",
    "plt.title('Gaussian filter')\n",
    "plt.subplot(143)\n",
    "plt.imshow(med_filter_coins[10:80, 300:370], cmap='gray',\n",
    "           interpolation='nearest')\n",
    "plt.axis('off')\n",
    "plt.title('Median filter')\n",
    "plt.subplot(144)\n",
    "plt.imshow(tv_filter_coins[10:80, 300:370], cmap='gray',\n",
    "           interpolation='nearest')\n",
    "plt.axis('off')\n",
    "plt.title('TV filter')\n",
    "plt.show()"
   ]
  },
  {
   "cell_type": "code",
   "execution_count": null,
   "metadata": {},
   "outputs": [],
   "source": [
    "coins[10:80, 300:370]"
   ]
  },
  {
   "cell_type": "code",
   "execution_count": null,
   "metadata": {},
   "outputs": [],
   "source": []
  }
 ],
 "metadata": {
  "kernelspec": {
   "display_name": "Python 3",
   "language": "python",
   "name": "python3"
  },
  "language_info": {
   "codemirror_mode": {
    "name": "ipython",
    "version": 3
   },
   "file_extension": ".py",
   "mimetype": "text/x-python",
   "name": "python",
   "nbconvert_exporter": "python",
   "pygments_lexer": "ipython3",
   "version": "3.5.4"
  }
 },
 "nbformat": 4,
 "nbformat_minor": 2
}
