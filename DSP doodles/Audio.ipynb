{
 "cells": [
  {
   "cell_type": "markdown",
   "metadata": {},
   "source": [
    "# Quick Audio Demo\n",
    "\n",
    "Quick demo of generating an audio file, adding a high frequency component, then filtering it out."
   ]
  },
  {
   "cell_type": "code",
   "execution_count": null,
   "metadata": {},
   "outputs": [],
   "source": [
    "import numpy as np\n",
    "import matplotlib.pyplot as plt\n",
    "from IPython.display import Audio, display\n",
    "from ipywidgets import widgets\n",
    "\n",
    "import pandas as pd\n",
    "\n",
    "%matplotlib inline"
   ]
  },
  {
   "cell_type": "code",
   "execution_count": null,
   "metadata": {},
   "outputs": [],
   "source": [
    "#https://ipython-books.github.io/117-creating-a-sound-synthesizer-in-the-notebook/\n",
    "rate = 16000.\n",
    "duration = 2.0\n",
    "t = np.linspace(0., duration, int(rate * duration))"
   ]
  },
  {
   "cell_type": "code",
   "execution_count": null,
   "metadata": {},
   "outputs": [],
   "source": [
    "def synth(f):\n",
    "    x = np.sin(f * 2. * np.pi * t)\n",
    "    plt.plot(x[:100]);\n",
    "    display(Audio(x, rate=rate, autoplay=False))"
   ]
  },
  {
   "cell_type": "code",
   "execution_count": null,
   "metadata": {},
   "outputs": [],
   "source": [
    "synth(440)"
   ]
  },
  {
   "cell_type": "code",
   "execution_count": null,
   "metadata": {},
   "outputs": [],
   "source": [
    "synth(880)"
   ]
  },
  {
   "cell_type": "code",
   "execution_count": null,
   "metadata": {},
   "outputs": [],
   "source": [
    "def synth2(f):\n",
    "    x = np.sin(f * 2. * np.pi * t)+0.3*np.sin(f * 10. * np.pi * t+1)\n",
    "    df=pd.DataFrame({'x':x})\n",
    "    df['y'] = df['x'].rolling(15).mean()\n",
    "    plt.plot(df['x'][:100]);\n",
    "    plt.plot(df['y'][:100]);\n",
    "    display(Audio(df['x'], rate=rate, autoplay=False))\n",
    "    display(Audio(df['y'].dropna(), rate=rate, autoplay=False))"
   ]
  },
  {
   "cell_type": "code",
   "execution_count": null,
   "metadata": {},
   "outputs": [],
   "source": [
    "synth2(440)"
   ]
  },
  {
   "cell_type": "code",
   "execution_count": null,
   "metadata": {},
   "outputs": [],
   "source": []
  }
 ],
 "metadata": {
  "kernelspec": {
   "display_name": "Python 3",
   "language": "python",
   "name": "python3"
  },
  "language_info": {
   "codemirror_mode": {
    "name": "ipython",
    "version": 3
   },
   "file_extension": ".py",
   "mimetype": "text/x-python",
   "name": "python",
   "nbconvert_exporter": "python",
   "pygments_lexer": "ipython3",
   "version": "3.5.4"
  }
 },
 "nbformat": 4,
 "nbformat_minor": 2
}
